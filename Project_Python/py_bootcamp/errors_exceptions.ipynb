{
 "cells": [
  {
   "cell_type": "code",
   "execution_count": 1,
   "metadata": {},
   "outputs": [],
   "source": [
    "class Player(object):\n",
    "    def __init__(self, bankroll = 100):\n",
    "        self.bankroll = bankroll\n",
    "        \n",
    "    def add_bankroll(self, amount):\n",
    "        self.bankroll += amount"
   ]
  },
  {
   "cell_type": "code",
   "execution_count": 2,
   "metadata": {},
   "outputs": [],
   "source": [
    "m_player1 = Player()"
   ]
  },
  {
   "cell_type": "code",
   "execution_count": 3,
   "metadata": {},
   "outputs": [],
   "source": [
    "m_player1.add_bankroll(1000)"
   ]
  },
  {
   "cell_type": "code",
   "execution_count": 4,
   "metadata": {},
   "outputs": [
    {
     "data": {
      "text/plain": [
       "1100"
      ]
     },
     "execution_count": 4,
     "metadata": {},
     "output_type": "execute_result"
    }
   ],
   "source": [
    "m_player1.bankroll"
   ]
  },
  {
   "cell_type": "code",
   "execution_count": 5,
   "metadata": {},
   "outputs": [],
   "source": [
    "# blackjack game"
   ]
  },
  {
   "cell_type": "code",
   "execution_count": 6,
   "metadata": {},
   "outputs": [
    {
     "name": "stdout",
     "output_type": "stream",
     "text": [
      "chip_pool: 45\n"
     ]
    }
   ],
   "source": [
    "# used for card huffle\n",
    "import random\n",
    "\n",
    "# boolean used to know if hand is in play\n",
    "playing = False\n",
    "chip_pool = raw_input(\"chip_pool: \")\n",
    "bet = 1\n",
    "restart_phrase = \"press 'd' to deal.\\nPress 'q' to quit\"\n"
   ]
  },
  {
   "cell_type": "code",
   "execution_count": 7,
   "metadata": {},
   "outputs": [],
   "source": [
    "# Hearts, Diamonds, Clubs, Spades\n",
    "suits = ('H', 'D', 'C', 'S')\n",
    "\n",
    "# possible card ranks\n",
    "ranking = ('A', '2', '3', '4', '5', '6', '7', '8', '9', '10', 'J', 'Q', 'K') \n",
    "\n",
    "# point values dict (Note: Aces can also be 11, check self.ace for details)\n",
    "\n",
    "card_val = {'A':1,\n",
    "            '2':2,\n",
    "            '3':3,\n",
    "           '4':4,\n",
    "           '5':5,\n",
    "           '6':6,\n",
    "           '7':7,\n",
    "           '8':8,\n",
    "           '9':9,\n",
    "           '10':10,\n",
    "           'J':10,\n",
    "           'Q':10,\n",
    "           'K':10}\n",
    "\n"
   ]
  },
  {
   "cell_type": "code",
   "execution_count": 8,
   "metadata": {},
   "outputs": [],
   "source": [
    "# Create a card class\n",
    "\n",
    "class card:\n",
    "    def __init__(self, suit, rank):\n",
    "        self.suit = suit\n",
    "        self.rank = rank\n",
    "    \n",
    "    def __str__(self):\n",
    "        return self.suit + self.rank\n",
    "    \n",
    "    def grab_suit(self):\n",
    "        return self.suit\n",
    "    \n",
    "    def grab_rank(self):\n",
    "        return self.rank\n",
    "    \n",
    "    def draw(self):\n",
    "        print (self.suit + self.rank)\n",
    "    "
   ]
  },
  {
   "cell_type": "code",
   "execution_count": null,
   "metadata": {},
   "outputs": [],
   "source": [
    "class Hand:\n",
    "    def __init__(self):\n",
    "        self.cards = []\n",
    "        self.value = 0\n",
    "        \n",
    "        # Aces can be 1 or 11, so need to define it here\n",
    "        self.ace = False\n",
    "        \n",
    "    def __str__(self):\n",
    "        '''Return a string of current hand composition'''\n",
    "        hand_comp = \"\"\n",
    "        \n",
    "        # Better way to do this? List comprehensions?\n",
    "        for card in self.cards:\n",
    "            card_name = card.__str__()\n",
    "            hand_comp += \" \" + card_name\n",
    "        \n",
    "        return 'The hand has %s' % hand_comp\n",
    "    \n",
    "    def card_add(self, card):\n",
    "        '''Add another card to the hand'''\n",
    "        self.cards.append(card)\n",
    "        \n",
    "        # Check for Aces\n",
    "        if card.rank == 'A':\n",
    "            self.ace = True\n",
    "        self.value += card_val[card.rank]\n",
    "        "
   ]
  }
 ],
 "metadata": {
  "kernelspec": {
   "display_name": "Python 2",
   "language": "python",
   "name": "python2"
  },
  "language_info": {
   "codemirror_mode": {
    "name": "ipython",
    "version": 2
   },
   "file_extension": ".py",
   "mimetype": "text/x-python",
   "name": "python",
   "nbconvert_exporter": "python",
   "pygments_lexer": "ipython2",
   "version": "2.7.12"
  }
 },
 "nbformat": 4,
 "nbformat_minor": 2
}
