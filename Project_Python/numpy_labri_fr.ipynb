{
 "cells": [
  {
   "cell_type": "code",
   "execution_count": 50,
   "metadata": {},
   "outputs": [],
   "source": [
    "import numpy as np\n",
    "import scipy as sp\n",
    "import matplotlib.pyplot as plt\n",
    "import timeit"
   ]
  },
  {
   "cell_type": "code",
   "execution_count": 51,
   "metadata": {},
   "outputs": [],
   "source": [
    "# object-oriented Approach:\n",
    "\n",
    "class RandomWalker:\n",
    "    def __init__(self):\n",
    "        self.position = 0\n",
    "    \n",
    "    def walk(self, n):\n",
    "        self.position = 0\n",
    "        for i in range(n):\n",
    "            yield self.position\n",
    "            self.position += 2*np.random.randint(0,1) - 1\n",
    "\n",
    "walker = RandomWalker()\n",
    "walk = [pos for pos in walker.walk(1000)]\n",
    "# print(walk)\n",
    "\n",
    "# alternate-1\n",
    "def random_walk(n):\n",
    "    pos = 0\n",
    "    walk = [pos]\n",
    "    for i in range(n):\n",
    "        pos += 2*np.random.randint(0,1) - 1\n",
    "        walk.append(pos)\n",
    "    return walk\n",
    "\n",
    "walk = random_walk(1000)\n",
    "# print(walk)\n",
    "\n",
    "\n",
    "# Vectorized Code\n",
    "\n",
    "def random_walk_faster(n=1000):\n",
    "    from itertools import accumulate\n",
    "    steps = np.random.choice([-1,1], n)\n",
    "    return [0] + list(accumulate(steps))\n",
    "\n",
    "# random_walk_faster(1000)\n",
    "\n",
    "# Vectorized Numpy implementation\n",
    "def random_walk_fastest(n=1000):\n",
    "    steps = np.random.choice([-1,1], n)\n",
    "    return np.cumsum(steps)\n",
    "\n",
    "#random_walk_fastest()\n"
   ]
  },
  {
   "cell_type": "code",
   "execution_count": 55,
   "metadata": {},
   "outputs": [
    {
     "name": "stdout",
     "output_type": "stream",
     "text": [
      "(4000,)\n"
     ]
    }
   ],
   "source": [
    "z = np.ones(4*1000, dtype=np.float32)\n",
    "z[...]=0\n",
    "print(z.shape)\n"
   ]
  },
  {
   "cell_type": "code",
   "execution_count": 58,
   "metadata": {},
   "outputs": [
    {
     "ename": "ValueError",
     "evalue": "setup is neither a string nor callable",
     "output_type": "error",
     "traceback": [
      "\u001b[0;31m---------------------------------------------------------------------------\u001b[0m",
      "\u001b[0;31mValueError\u001b[0m                                Traceback (most recent call last)",
      "\u001b[0;32m<ipython-input-58-e717fdffe5c9>\u001b[0m in \u001b[0;36m<module>\u001b[0;34m()\u001b[0m\n\u001b[0;32m----> 1\u001b[0;31m \u001b[0mtimeit\u001b[0m\u001b[0;34m.\u001b[0m\u001b[0mtimeit\u001b[0m\u001b[0;34m(\u001b[0m\u001b[0;34m\"z.view(np.int8)[...] = 0\"\u001b[0m\u001b[0;34m,\u001b[0m \u001b[0mglobals\u001b[0m\u001b[0;34m(\u001b[0m\u001b[0;34m)\u001b[0m\u001b[0;34m)\u001b[0m\u001b[0;34m\u001b[0m\u001b[0m\n\u001b[0m",
      "\u001b[0;32m/usr/lib/python3.5/timeit.py\u001b[0m in \u001b[0;36mtimeit\u001b[0;34m(stmt, setup, timer, number, globals)\u001b[0m\n\u001b[1;32m    211\u001b[0m            number=default_number, globals=None):\n\u001b[1;32m    212\u001b[0m     \u001b[0;34m\"\"\"Convenience function to create Timer object and call timeit method.\"\"\"\u001b[0m\u001b[0;34m\u001b[0m\u001b[0m\n\u001b[0;32m--> 213\u001b[0;31m     \u001b[0;32mreturn\u001b[0m \u001b[0mTimer\u001b[0m\u001b[0;34m(\u001b[0m\u001b[0mstmt\u001b[0m\u001b[0;34m,\u001b[0m \u001b[0msetup\u001b[0m\u001b[0;34m,\u001b[0m \u001b[0mtimer\u001b[0m\u001b[0;34m,\u001b[0m \u001b[0mglobals\u001b[0m\u001b[0;34m)\u001b[0m\u001b[0;34m.\u001b[0m\u001b[0mtimeit\u001b[0m\u001b[0;34m(\u001b[0m\u001b[0mnumber\u001b[0m\u001b[0;34m)\u001b[0m\u001b[0;34m\u001b[0m\u001b[0m\n\u001b[0m\u001b[1;32m    214\u001b[0m \u001b[0;34m\u001b[0m\u001b[0m\n\u001b[1;32m    215\u001b[0m def repeat(stmt=\"pass\", setup=\"pass\", timer=default_timer,\n",
      "\u001b[0;32m/usr/lib/python3.5/timeit.py\u001b[0m in \u001b[0;36m__init__\u001b[0;34m(self, stmt, setup, timer, globals)\u001b[0m\n\u001b[1;32m    118\u001b[0m             \u001b[0msetup\u001b[0m \u001b[0;34m=\u001b[0m \u001b[0;34m'_setup()'\u001b[0m\u001b[0;34m\u001b[0m\u001b[0m\n\u001b[1;32m    119\u001b[0m         \u001b[0;32melse\u001b[0m\u001b[0;34m:\u001b[0m\u001b[0;34m\u001b[0m\u001b[0m\n\u001b[0;32m--> 120\u001b[0;31m             \u001b[0;32mraise\u001b[0m \u001b[0mValueError\u001b[0m\u001b[0;34m(\u001b[0m\u001b[0;34m\"setup is neither a string nor callable\"\u001b[0m\u001b[0;34m)\u001b[0m\u001b[0;34m\u001b[0m\u001b[0m\n\u001b[0m\u001b[1;32m    121\u001b[0m         \u001b[0;32mif\u001b[0m \u001b[0misinstance\u001b[0m\u001b[0;34m(\u001b[0m\u001b[0mstmt\u001b[0m\u001b[0;34m,\u001b[0m \u001b[0mstr\u001b[0m\u001b[0;34m)\u001b[0m\u001b[0;34m:\u001b[0m\u001b[0;34m\u001b[0m\u001b[0m\n\u001b[1;32m    122\u001b[0m             \u001b[0;31m# Check that the code can be compiled outside a function\u001b[0m\u001b[0;34m\u001b[0m\u001b[0;34m\u001b[0m\u001b[0m\n",
      "\u001b[0;31mValueError\u001b[0m: setup is neither a string nor callable"
     ]
    }
   ],
   "source": [
    "timeit.timeit(\"z.view(np.int8)[...] = 0\", globals())"
   ]
  },
  {
   "cell_type": "code",
   "execution_count": 59,
   "metadata": {},
   "outputs": [],
   "source": [
    "z = np.arange(9)"
   ]
  },
  {
   "cell_type": "code",
   "execution_count": 60,
   "metadata": {},
   "outputs": [
    {
     "data": {
      "text/plain": [
       "array([0, 1, 2, 3, 4, 5, 6, 7, 8])"
      ]
     },
     "execution_count": 60,
     "metadata": {},
     "output_type": "execute_result"
    }
   ],
   "source": [
    "z"
   ]
  },
  {
   "cell_type": "code",
   "execution_count": 65,
   "metadata": {},
   "outputs": [
    {
     "data": {
      "text/plain": [
       "array([[0, 1, 2],\n",
       "       [3, 4, 5],\n",
       "       [6, 7, 8]])"
      ]
     },
     "execution_count": 65,
     "metadata": {},
     "output_type": "execute_result"
    }
   ],
   "source": [
    "z = z.reshape(3,3)\n",
    "z"
   ]
  },
  {
   "cell_type": "code",
   "execution_count": 67,
   "metadata": {},
   "outputs": [
    {
     "data": {
      "text/plain": [
       "array([[0., 1., 2.],\n",
       "       [3., 4., 5.],\n",
       "       [6., 7., 8.]], dtype=float32)"
      ]
     },
     "execution_count": 67,
     "metadata": {},
     "output_type": "execute_result"
    }
   ],
   "source": [
    "z = z.astype(np.float32)\n",
    "z"
   ]
  },
  {
   "cell_type": "code",
   "execution_count": 73,
   "metadata": {},
   "outputs": [
    {
     "name": "stdout",
     "output_type": "stream",
     "text": [
      "[[0 1 2]\n",
      " [3 4 5]\n",
      " [6 7 8]]\n",
      "---------------\n",
      "(3, 3)\n",
      "---------------\n",
      "2\n",
      "---------------\n",
      "2\n"
     ]
    }
   ],
   "source": [
    "z = np.arange(9).reshape(3,3).astype(np.int16)\n",
    "print(z)\n",
    "print('---------------')\n",
    "print(z.shape)\n",
    "print('---------------')\n",
    "print(z.itemsize)\n",
    "print('---------------')\n",
    "print(z.ndim)\n"
   ]
  },
  {
   "cell_type": "code",
   "execution_count": 80,
   "metadata": {},
   "outputs": [
    {
     "name": "stdout",
     "output_type": "stream",
     "text": [
      "(6, 2)\n",
      "(6, 2)\n"
     ]
    }
   ],
   "source": [
    "print(z.strides)\n",
    "strides = z.shape[1]*z.itemsize , z.itemsize\n",
    "print(strides)"
   ]
  },
  {
   "cell_type": "code",
   "execution_count": 93,
   "metadata": {},
   "outputs": [
    {
     "name": "stdout",
     "output_type": "stream",
     "text": [
      "[[0 1 2]\n",
      " [3 4 5]\n",
      " [6 7 8]]\n",
      "---------------\n",
      "[[0 1 2]\n",
      " [3 4 5]\n",
      " [6 7 8]]\n",
      "--------------\n",
      "[[0 2]\n",
      " [3 5]\n",
      " [6 8]]\n",
      "--------------\n",
      "[]\n",
      "-------------\n"
     ]
    }
   ],
   "source": [
    "print(z)\n",
    "print('---------------')\n",
    "v = z[::1, ::1]\n",
    "print(v)\n",
    "print('--------------')\n",
    "\n",
    "v = z[::1,::2]\n",
    "print(v)\n",
    "print('--------------')\n",
    "\n",
    "v = z[1::2, :0:1]\n",
    "print(v)\n",
    "print('-------------')"
   ]
  },
  {
   "cell_type": "code",
   "execution_count": 94,
   "metadata": {},
   "outputs": [
    {
     "data": {
      "text/plain": [
       "array([0., 0., 0., 0., 0., 0., 0., 0., 0.])"
      ]
     },
     "execution_count": 94,
     "metadata": {},
     "output_type": "execute_result"
    }
   ],
   "source": []
  },
  {
   "cell_type": "code",
   "execution_count": 115,
   "metadata": {},
   "outputs": [
    {
     "name": "stdout",
     "output_type": "stream",
     "text": [
      "-------------\n",
      "[0. 0. 0. 0. 0. 0. 0. 0. 0.]\n",
      "(9,)\n",
      "-------------\n",
      "[1. 1. 1.]\n",
      "-------------\n",
      "[1. 1. 1. 0. 0. 0. 0. 0. 0.]\n",
      "-------------\n",
      "------------\n",
      "[0. 0. 0. 0. 0. 0. 0. 0. 0.]\n",
      "(9,)\n",
      "-----------\n",
      "[2. 2. 2.]\n",
      "------------\n",
      "[0. 0. 0. 0. 0. 0. 0. 0. 0.]\n"
     ]
    }
   ],
   "source": [
    "z = np.zeros(9)\n",
    "print('-------------')\n",
    "print(z)\n",
    "print(z.shape)\n",
    "\n",
    "z_view = z[:3]\n",
    "z_view[...] = 1\n",
    "\n",
    "print('-------------')\n",
    "print(z_view)\n",
    "print('-------------')\n",
    "print(z)\n",
    "print('-------------\\n------------')\n",
    "\n",
    "zz = np.zeros(9)\n",
    "zz_copy = zz[[0,1,2]]\n",
    "zz_copy[...] = 2\n",
    "\n",
    "print(zz)\n",
    "print(zz.shape)\n",
    "print('-----------')\n",
    "print(zz_copy)\n",
    "print('------------')\n",
    "print(zz)"
   ]
  },
  {
   "cell_type": "code",
   "execution_count": 122,
   "metadata": {},
   "outputs": [
    {
     "name": "stdout",
     "output_type": "stream",
     "text": [
      "[3. 3. 3. 0. 9. 9. 0. 4. 0.]\n"
     ]
    }
   ],
   "source": [
    "zzz = np.zeros(9)\n",
    "indexes = [0,1,2]\n",
    "zzz[indexes] = 3\n",
    "zzz[7:-1] = 4\n",
    "zzz[[4,5]] = 9\n",
    "print(zzz)"
   ]
  },
  {
   "cell_type": "code",
   "execution_count": 131,
   "metadata": {},
   "outputs": [
    {
     "name": "stdout",
     "output_type": "stream",
     "text": [
      "True\n"
     ]
    }
   ],
   "source": [
    "print(z_view.base is z)"
   ]
  },
  {
   "cell_type": "code",
   "execution_count": 133,
   "metadata": {},
   "outputs": [
    {
     "name": "stdout",
     "output_type": "stream",
     "text": [
      "False\n"
     ]
    }
   ],
   "source": [
    "print(zz_copy.base is zz)"
   ]
  },
  {
   "cell_type": "code",
   "execution_count": 135,
   "metadata": {},
   "outputs": [
    {
     "name": "stdout",
     "output_type": "stream",
     "text": [
      "None\n"
     ]
    }
   ],
   "source": [
    "print(zz_copy.base)"
   ]
  },
  {
   "cell_type": "code",
   "execution_count": 141,
   "metadata": {},
   "outputs": [
    {
     "data": {
      "text/plain": [
       "array([4, 4, 4, 4, 4, 4, 4, 4, 4, 4])"
      ]
     },
     "execution_count": 141,
     "metadata": {},
     "output_type": "execute_result"
    }
   ],
   "source": [
    "X = np.ones(10, dtype=np.int)\n",
    "Y = np.ones(10, dtype=np.int)\n",
    "Z = 2*X + 2*Y\n",
    "Z"
   ]
  },
  {
   "cell_type": "code",
   "execution_count": 140,
   "metadata": {},
   "outputs": [
    {
     "data": {
      "text/plain": [
       "array([4, 4, 4, 4, 4, 4, 4, 4, 4, 4])"
      ]
     },
     "execution_count": 140,
     "metadata": {},
     "output_type": "execute_result"
    }
   ],
   "source": [
    "# alternative implementaion\n",
    "X = np.ones(10, dtype=np.int)\n",
    "Y = np.ones(10, dtype=np.int)\n",
    "np.multiply(X, 2, out=X)\n",
    "np.multiply(Y, 2, out=Y)\n",
    "np.add(X, Y, out=X)"
   ]
  },
  {
   "cell_type": "code",
   "execution_count": 146,
   "metadata": {},
   "outputs": [],
   "source": [
    "w = np.arange(10,dtype=np.int)\n",
    "w1 = w[1:-1:2]\n",
    "# print(w)\n",
    "# print(w1)\n"
   ]
  },
  {
   "cell_type": "code",
   "execution_count": 147,
   "metadata": {},
   "outputs": [
    {
     "name": "stdout",
     "output_type": "stream",
     "text": [
      "True\n"
     ]
    }
   ],
   "source": [
    "# checking if w is the base of w1\n",
    "print(w1.base is w)"
   ]
  },
  {
   "cell_type": "code",
   "execution_count": 167,
   "metadata": {},
   "outputs": [
    {
     "name": "stdout",
     "output_type": "stream",
     "text": [
      "2\n",
      "offset_start = 8\n",
      "offset_end = -16\n",
      "start = 1\n",
      "end = -1\n",
      "w1 = w[1:-1:2]\n",
      "True\n"
     ]
    }
   ],
   "source": [
    "# So, w1 is a view of w\n",
    "# w1 = w[start:end:strides]\n",
    "# need to find, start, end, strides\n",
    "\n",
    "# finding strides\n",
    "strides = w1.strides[0] // w.strides[0]\n",
    "print(strides)\n",
    "\n",
    "\n",
    "# finding start & end\n",
    "offset_start = np.byte_bounds(w1)[0] - np.byte_bounds(w)[0]\n",
    "offset_end = np.byte_bounds(w1)[-1] - np.byte_bounds(w)[-1]\n",
    "\n",
    "print('offset_start = %d' % offset_start)\n",
    "print('offset_end = %d' % offset_end)\n",
    "\n",
    "start = offset_start // w.itemsize\n",
    "end = (offset_end + w.size ) // w.itemsize\n",
    "\n",
    "print('start = %d' % start)\n",
    "print('end = %d' % end)\n",
    "print('w1 = w[%d:%d:%d]' %(start,end,strides))\n",
    "\n",
    "# sanity check\n",
    "\n",
    "print(np.allclose(w[start:end:strides], w1))\n"
   ]
  },
  {
   "cell_type": "code",
   "execution_count": 2,
   "metadata": {},
   "outputs": [],
   "source": [
    "########\n",
    "import numpy as np"
   ]
  },
  {
   "cell_type": "code",
   "execution_count": 10,
   "metadata": {},
   "outputs": [],
   "source": [
    "def add_python(z1,z2):\n",
    "    return [z1+z2 for (z1,z2) in zip(z1,z2)]\n",
    "\n",
    "def add_numpy(z1,z2):\n",
    "    return np.add(z1,z2)"
   ]
  },
  {
   "cell_type": "code",
   "execution_count": 11,
   "metadata": {},
   "outputs": [],
   "source": [
    "z1 = [[1,2],[3,4]]\n",
    "z2 = [[5,6],[7,8]]"
   ]
  },
  {
   "cell_type": "code",
   "execution_count": 12,
   "metadata": {},
   "outputs": [
    {
     "data": {
      "text/plain": [
       "[[1, 2], [3, 4], [5, 6], [7, 8]]"
      ]
     },
     "execution_count": 12,
     "metadata": {},
     "output_type": "execute_result"
    }
   ],
   "source": [
    "z1+z2"
   ]
  },
  {
   "cell_type": "code",
   "execution_count": 13,
   "metadata": {},
   "outputs": [
    {
     "data": {
      "text/plain": [
       "[[1, 2, 5, 6], [3, 4, 7, 8]]"
      ]
     },
     "execution_count": 13,
     "metadata": {},
     "output_type": "execute_result"
    }
   ],
   "source": [
    "add_python(z1,z2)"
   ]
  },
  {
   "cell_type": "code",
   "execution_count": 15,
   "metadata": {},
   "outputs": [
    {
     "data": {
      "text/plain": [
       "array([[ 6,  8],\n",
       "       [10, 12]])"
      ]
     },
     "execution_count": 15,
     "metadata": {},
     "output_type": "execute_result"
    }
   ],
   "source": [
    "add_numpy(z1,z2)"
   ]
  },
  {
   "cell_type": "markdown",
   "metadata": {},
   "source": [
    "# Game of Life:"
   ]
  },
  {
   "cell_type": "markdown",
   "metadata": {},
   "source": [
    "```\n",
    "Rules:\n",
    "1. DEATH happens: any live cell with fewer than 2 live neighbors (cause underpopulation\n",
    "2. DEATH happens: any live cell with more than 3 live neighbors (overpopulation)\n",
    "3. SURVIVAL happens: any live cell with 2 or 3 live neighbors survives for next generation.\n",
    "4. RE-BIRTH happens: any dead cell with exactly 3 live neighbors become alive\n",
    "\n",
    "SEED : Initial pattern\n",
    "\n",
    "Births & Deaths happen simultaneously\n",
    "TICK: the descrete moment when birth and death happens\n",
    "```"
   ]
  },
  {
   "cell_type": "code",
   "execution_count": 71,
   "metadata": {},
   "outputs": [],
   "source": [
    "# Python Implementation:\n",
    "def compute_gen_score(Z):\n",
    "    shape = len(Z), len(Z[0]) #(rows, cols) == (y,x)\n",
    "    score = [[0,]*(shape[0]) for i in range(shape[1])]\n",
    "    for x in range(1, shape[1]-1):\n",
    "        for y in range(1, shape[0]-1):\n",
    "            score[x][y] = Z[x-1][y-1] + Z[x][y-1] + Z[x+1][y-1] + \\\n",
    "                            Z[x-1][y] + Z[x+1][y] + \\\n",
    "                            Z[x-1][y+1] + Z[x][y+1] + Z[x+1][y+1]\n",
    "    \n",
    "#     print(score)\n",
    "    return score\n",
    "\n",
    "#---------------\n",
    "def iterate(Z):\n",
    "    score = compute_gen_score(Z)\n",
    "    \n",
    "    for x in range(len(Z[0])-1):\n",
    "        for y in range(len(Z)-1):\n",
    "            if Z[x][y] == 1 and (score[x][y] < 2 or score[x][y] > 3):\n",
    "                ### death\n",
    "                Z[x][y] = 0\n",
    "            elif Z[x][y] == 0 and score[x][y] == 3:\n",
    "                ### rebirth\n",
    "                Z[x][y] = 1\n",
    "    return Z\n",
    "    \n",
    "    \n",
    "    \n",
    "# Numpy Implementation\n",
    "def game_of_life(Z):\n",
    "    score_np = np.zeros(Z.shape, np.int)\n",
    "    score_np += np.add(Z[:-2][:-2], Z[:-2, 1:-1], Z[:-2, 2:])"
   ]
  },
  {
   "cell_type": "code",
   "execution_count": 72,
   "metadata": {},
   "outputs": [
    {
     "data": {
      "text/plain": [
       "[[0, 0, 0, 0, 0, 0],\n",
       " [0, 0, 0, 1, 0, 0],\n",
       " [0, 1, 0, 1, 0, 0],\n",
       " [0, 0, 1, 1, 0, 0],\n",
       " [0, 0, 0, 0, 0, 0],\n",
       " [0, 0, 0, 0, 0, 0]]"
      ]
     },
     "execution_count": 72,
     "metadata": {},
     "output_type": "execute_result"
    }
   ],
   "source": [
    "Z = [[0,0,0,0,0,0],\n",
    "     [0,0,0,1,0,0],\n",
    "     [0,1,0,1,0,0],\n",
    "     [0,0,1,1,0,0],\n",
    "     [0,0,0,0,0,0],\n",
    "     [0,0,0,0,0,0]]\n",
    "Z"
   ]
  },
  {
   "cell_type": "code",
   "execution_count": 73,
   "metadata": {},
   "outputs": [
    {
     "data": {
      "text/plain": [
       "[[0, 0, 0, 0, 0, 0],\n",
       " [0, 0, 1, 0, 0, 0],\n",
       " [0, 0, 0, 1, 1, 0],\n",
       " [0, 0, 1, 1, 0, 0],\n",
       " [0, 0, 0, 0, 0, 0],\n",
       " [0, 0, 0, 0, 0, 0]]"
      ]
     },
     "execution_count": 73,
     "metadata": {},
     "output_type": "execute_result"
    }
   ],
   "source": [
    "iterate(Z)"
   ]
  },
  {
   "cell_type": "code",
   "execution_count": 88,
   "metadata": {},
   "outputs": [
    {
     "data": {
      "text/plain": [
       "array([[0, 0, 0, 0, 0, 0],\n",
       "       [0, 0, 3, 0, 0, 0]])"
      ]
     },
     "execution_count": 88,
     "metadata": {},
     "output_type": "execute_result"
    }
   ],
   "source": [
    "arr = Z[:-2][:-2], Z[:-2][:-2], Z[:-2][:-2]\n",
    "np.sum(arr, axis=0)"
   ]
  },
  {
   "cell_type": "code",
   "execution_count": 99,
   "metadata": {},
   "outputs": [
    {
     "data": {
      "text/plain": [
       "[[0, 0, 1, 0, 0, 0], [0, 0, 0, 1, 1, 0]]"
      ]
     },
     "execution_count": 99,
     "metadata": {},
     "output_type": "execute_result"
    }
   ],
   "source": [
    "a =Z[:-2][1:-1]\n",
    "a\n",
    "# a[:-2]?"
   ]
  },
  {
   "cell_type": "code",
   "execution_count": null,
   "metadata": {},
   "outputs": [],
   "source": []
  },
  {
   "cell_type": "code",
   "execution_count": null,
   "metadata": {},
   "outputs": [],
   "source": []
  }
 ],
 "metadata": {
  "kernelspec": {
   "display_name": "Python 3",
   "language": "python",
   "name": "python3"
  },
  "language_info": {
   "codemirror_mode": {
    "name": "ipython",
    "version": 3
   },
   "file_extension": ".py",
   "mimetype": "text/x-python",
   "name": "python",
   "nbconvert_exporter": "python",
   "pygments_lexer": "ipython3",
   "version": "3.5.2"
  }
 },
 "nbformat": 4,
 "nbformat_minor": 2
}
