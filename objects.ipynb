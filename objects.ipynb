{
  "nbformat": 4,
  "nbformat_minor": 0,
  "metadata": {
    "colab": {
      "name": "objects.ipynb",
      "version": "0.3.2",
      "provenance": []
    },
    "kernelspec": {
      "display_name": "Python 2",
      "language": "python",
      "name": "python2"
    }
  },
  "cells": [
    {
      "cell_type": "markdown",
      "metadata": {
        "id": "view-in-github",
        "colab_type": "text"
      },
      "source": [
        "[View in Colaboratory](https://colab.research.google.com/github/vinaykumar2491/Lumos/blob/master/objects.ipynb)"
      ]
    },
    {
      "metadata": {
        "id": "9ihGqZ_PETdU",
        "colab_type": "text"
      },
      "cell_type": "markdown",
      "source": [
        "# Shorcuts:"
      ]
    },
    {
      "metadata": {
        "id": "L_suNfuPETdW",
        "colab_type": "code",
        "colab": {
          "base_uri": "https://localhost:8080/",
          "height": 53
        },
        "outputId": "7fa6f9dd-0465-4c13-a467-9a120cd0028a"
      },
      "cell_type": "code",
      "source": [
        "print \"Hello\"\n",
        "print \"(SHIFT + ENTER) will run a cell.\""
      ],
      "execution_count": 1,
      "outputs": [
        {
          "output_type": "stream",
          "text": [
            "Hello\n",
            "(SHIFT + ENTER) will run a cell.\n"
          ],
          "name": "stdout"
        }
      ]
    },
    {
      "metadata": {
        "id": "j0NCx_EjETdd",
        "colab_type": "code",
        "colab": {}
      },
      "cell_type": "code",
      "source": [
        "mList = [1,2,3]"
      ],
      "execution_count": 0,
      "outputs": []
    },
    {
      "metadata": {
        "id": "CBXt1QMGETdf",
        "colab_type": "code",
        "colab": {},
        "outputId": "75e7d085-e96d-41b9-9ce0-a263c7610f0a"
      },
      "cell_type": "code",
      "source": [
        "print \"TAB will show a popup of the methods on an object!!\""
      ],
      "execution_count": 0,
      "outputs": [
        {
          "output_type": "stream",
          "text": [
            "TAB will show a popup of the methods on an object!!\n"
          ],
          "name": "stdout"
        }
      ]
    },
    {
      "metadata": {
        "id": "OX9tIAwcETdi",
        "colab_type": "code",
        "colab": {},
        "outputId": "fee8b494-b644-4b48-8df4-4bf0129e559d"
      },
      "cell_type": "code",
      "source": [
        "print \"(SHIFT + TAB) will show help popup for docstring.\""
      ],
      "execution_count": 0,
      "outputs": [
        {
          "output_type": "stream",
          "text": [
            "(SHIFT + TAB) will show help popup for docstring.\n"
          ],
          "name": "stdout"
        }
      ]
    },
    {
      "metadata": {
        "id": "bSgxT32eETdm",
        "colab_type": "code",
        "colab": {}
      },
      "cell_type": "code",
      "source": [
        "# help(mList)"
      ],
      "execution_count": 0,
      "outputs": []
    },
    {
      "metadata": {
        "id": "7CupsAubETdo",
        "colab_type": "code",
        "colab": {}
      },
      "cell_type": "code",
      "source": [
        "# This is a comment"
      ],
      "execution_count": 0,
      "outputs": []
    },
    {
      "metadata": {
        "id": "aRvlWQFwETdr",
        "colab_type": "code",
        "colab": {}
      },
      "cell_type": "code",
      "source": [
        ""
      ],
      "execution_count": 0,
      "outputs": []
    },
    {
      "metadata": {
        "id": "ciKNEXVbETdt",
        "colab_type": "text"
      },
      "cell_type": "markdown",
      "source": [
        "# NUMBERS :"
      ]
    },
    {
      "metadata": {
        "id": "LOZJzxPHETdu",
        "colab_type": "code",
        "colab": {},
        "outputId": "a35805ac-e652-47c7-a398-b8d794b53f6c"
      },
      "cell_type": "code",
      "source": [
        "2+1"
      ],
      "execution_count": 0,
      "outputs": [
        {
          "output_type": "execute_result",
          "data": {
            "text/plain": [
              "3"
            ]
          },
          "metadata": {
            "tags": []
          },
          "execution_count": 43
        }
      ]
    },
    {
      "metadata": {
        "id": "YBQZBm6EETdy",
        "colab_type": "code",
        "colab": {},
        "outputId": "dc4b54db-b7b8-46be-f689-138df386d2f4"
      },
      "cell_type": "code",
      "source": [
        "2+2"
      ],
      "execution_count": 0,
      "outputs": [
        {
          "output_type": "execute_result",
          "data": {
            "text/plain": [
              "4"
            ]
          },
          "metadata": {
            "tags": []
          },
          "execution_count": 44
        }
      ]
    },
    {
      "metadata": {
        "id": "2N-uhTphETd2",
        "colab_type": "code",
        "colab": {},
        "outputId": "aa60a065-1c05-44f9-d4a9-fdada27cf903"
      },
      "cell_type": "code",
      "source": [
        "3-1"
      ],
      "execution_count": 0,
      "outputs": [
        {
          "output_type": "execute_result",
          "data": {
            "text/plain": [
              "2"
            ]
          },
          "metadata": {
            "tags": []
          },
          "execution_count": 45
        }
      ]
    },
    {
      "metadata": {
        "id": "FFu8ItINETd-",
        "colab_type": "code",
        "colab": {},
        "outputId": "1382e36e-c330-4c2c-ef8e-0d8841345d30"
      },
      "cell_type": "code",
      "source": [
        "2*5"
      ],
      "execution_count": 0,
      "outputs": [
        {
          "output_type": "execute_result",
          "data": {
            "text/plain": [
              "10"
            ]
          },
          "metadata": {
            "tags": []
          },
          "execution_count": 46
        }
      ]
    },
    {
      "metadata": {
        "id": "Djo4mpuDETeE",
        "colab_type": "code",
        "colab": {},
        "outputId": "1bc4db8a-4ce1-4f48-f837-04a0fb65512e"
      },
      "cell_type": "code",
      "source": [
        "1/5"
      ],
      "execution_count": 0,
      "outputs": [
        {
          "output_type": "execute_result",
          "data": {
            "text/plain": [
              "0.2"
            ]
          },
          "metadata": {
            "tags": []
          },
          "execution_count": 47
        }
      ]
    },
    {
      "metadata": {
        "id": "FUUnkzWZETeM",
        "colab_type": "code",
        "colab": {},
        "outputId": "2b081b8a-0242-4391-ca96-cf850437a49e"
      },
      "cell_type": "code",
      "source": [
        "3/2     # classic integer division"
      ],
      "execution_count": 0,
      "outputs": [
        {
          "output_type": "execute_result",
          "data": {
            "text/plain": [
              "1.5"
            ]
          },
          "metadata": {
            "tags": []
          },
          "execution_count": 48
        }
      ]
    },
    {
      "metadata": {
        "id": "ZCnD-vRrETeR",
        "colab_type": "code",
        "colab": {},
        "outputId": "e9c34d68-ce4c-497b-b9db-9f2b97c5adcb"
      },
      "cell_type": "code",
      "source": [
        "3.0/2   # true division"
      ],
      "execution_count": 0,
      "outputs": [
        {
          "output_type": "execute_result",
          "data": {
            "text/plain": [
              "1.5"
            ]
          },
          "metadata": {
            "tags": []
          },
          "execution_count": 49
        }
      ]
    },
    {
      "metadata": {
        "id": "kNEmNpplETeT",
        "colab_type": "code",
        "colab": {},
        "outputId": "8bf542e0-8be9-4806-823a-22078ede9102"
      },
      "cell_type": "code",
      "source": [
        "3/2.0"
      ],
      "execution_count": 0,
      "outputs": [
        {
          "output_type": "execute_result",
          "data": {
            "text/plain": [
              "1.5"
            ]
          },
          "metadata": {
            "tags": []
          },
          "execution_count": 50
        }
      ]
    },
    {
      "metadata": {
        "id": "zgTwlHAbETeX",
        "colab_type": "code",
        "colab": {},
        "outputId": "35638440-4957-4c34-ae4b-9370c6b1ea5a"
      },
      "cell_type": "code",
      "source": [
        "float(3)        #casting:"
      ],
      "execution_count": 0,
      "outputs": [
        {
          "output_type": "execute_result",
          "data": {
            "text/plain": [
              "3.0"
            ]
          },
          "metadata": {
            "tags": []
          },
          "execution_count": 51
        }
      ]
    },
    {
      "metadata": {
        "id": "CJwcapviETeZ",
        "colab_type": "code",
        "colab": {}
      },
      "cell_type": "code",
      "source": [
        "#importing capabilities from python3 into python2\n",
        "\n",
        "from __future__ import division"
      ],
      "execution_count": 0,
      "outputs": []
    },
    {
      "metadata": {
        "id": "9S3okblqETec",
        "colab_type": "code",
        "colab": {},
        "outputId": "4b807b41-0794-439e-8e41-449a862c0c60"
      },
      "cell_type": "code",
      "source": [
        "3/2         #(due to __future__)"
      ],
      "execution_count": 0,
      "outputs": [
        {
          "output_type": "execute_result",
          "data": {
            "text/plain": [
              "1.5"
            ]
          },
          "metadata": {
            "tags": []
          },
          "execution_count": 53
        }
      ]
    },
    {
      "metadata": {
        "id": "ay3QQPhIETeh",
        "colab_type": "code",
        "colab": {},
        "outputId": "aaad81da-e798-4b96-8d24-013fab55abfb"
      },
      "cell_type": "code",
      "source": [
        "# power\n",
        "\n",
        "12**2"
      ],
      "execution_count": 0,
      "outputs": [
        {
          "output_type": "execute_result",
          "data": {
            "text/plain": [
              "144"
            ]
          },
          "metadata": {
            "tags": []
          },
          "execution_count": 54
        }
      ]
    },
    {
      "metadata": {
        "id": "VJMe0XyOETek",
        "colab_type": "code",
        "colab": {},
        "outputId": "477cb393-4895-44ce-8d1a-6053c2617ee2"
      },
      "cell_type": "code",
      "source": [
        "# square root\n",
        "\n",
        "144**0.5"
      ],
      "execution_count": 0,
      "outputs": [
        {
          "output_type": "execute_result",
          "data": {
            "text/plain": [
              "12.0"
            ]
          },
          "metadata": {
            "tags": []
          },
          "execution_count": 55
        }
      ]
    },
    {
      "metadata": {
        "id": "uuA2II26ETen",
        "colab_type": "code",
        "colab": {}
      },
      "cell_type": "code",
      "source": [
        "a = 5"
      ],
      "execution_count": 0,
      "outputs": []
    },
    {
      "metadata": {
        "id": "MFvyRjhUETeo",
        "colab_type": "code",
        "colab": {},
        "outputId": "f9b9675e-66b2-4a7b-f26f-de7a6418300b"
      },
      "cell_type": "code",
      "source": [
        "a"
      ],
      "execution_count": 0,
      "outputs": [
        {
          "output_type": "execute_result",
          "data": {
            "text/plain": [
              "5"
            ]
          },
          "metadata": {
            "tags": []
          },
          "execution_count": 57
        }
      ]
    },
    {
      "metadata": {
        "id": "KQv7eoPeETer",
        "colab_type": "code",
        "colab": {},
        "outputId": "9611d3dc-8df1-4fff-af89-00af78945ab1"
      },
      "cell_type": "code",
      "source": [
        "a+a"
      ],
      "execution_count": 0,
      "outputs": [
        {
          "output_type": "execute_result",
          "data": {
            "text/plain": [
              "10"
            ]
          },
          "metadata": {
            "tags": []
          },
          "execution_count": 58
        }
      ]
    },
    {
      "metadata": {
        "id": "S8xtmP8VETeu",
        "colab_type": "code",
        "colab": {}
      },
      "cell_type": "code",
      "source": [
        "a = 10"
      ],
      "execution_count": 0,
      "outputs": []
    },
    {
      "metadata": {
        "id": "hnS1s785ETex",
        "colab_type": "code",
        "colab": {},
        "outputId": "581dbdb6-7e7c-49f2-caa7-c6212622971a"
      },
      "cell_type": "code",
      "source": [
        "a"
      ],
      "execution_count": 0,
      "outputs": [
        {
          "output_type": "execute_result",
          "data": {
            "text/plain": [
              "10"
            ]
          },
          "metadata": {
            "tags": []
          },
          "execution_count": 60
        }
      ]
    },
    {
      "metadata": {
        "id": "anXLOGfFETe1",
        "colab_type": "code",
        "colab": {}
      },
      "cell_type": "code",
      "source": [
        "a = a+a"
      ],
      "execution_count": 0,
      "outputs": []
    },
    {
      "metadata": {
        "id": "5BajczyPETe5",
        "colab_type": "code",
        "colab": {},
        "outputId": "2a81e476-c9d4-46be-d26b-ba0bad505bb0"
      },
      "cell_type": "code",
      "source": [
        "a"
      ],
      "execution_count": 0,
      "outputs": [
        {
          "output_type": "execute_result",
          "data": {
            "text/plain": [
              "20"
            ]
          },
          "metadata": {
            "tags": []
          },
          "execution_count": 62
        }
      ]
    },
    {
      "metadata": {
        "id": "ZONFzQk5ETe-",
        "colab_type": "code",
        "colab": {}
      },
      "cell_type": "code",
      "source": [
        "my_income = 1000000"
      ],
      "execution_count": 0,
      "outputs": []
    },
    {
      "metadata": {
        "id": "HUVxh3QlETfA",
        "colab_type": "code",
        "colab": {}
      },
      "cell_type": "code",
      "source": [
        "tax_rate = 0.2"
      ],
      "execution_count": 0,
      "outputs": []
    },
    {
      "metadata": {
        "id": "WZSeOOGeETfD",
        "colab_type": "code",
        "colab": {}
      },
      "cell_type": "code",
      "source": [
        "my_taxes = my_income * tax_rate"
      ],
      "execution_count": 0,
      "outputs": []
    },
    {
      "metadata": {
        "id": "mWQfJ3HEETfG",
        "colab_type": "code",
        "colab": {},
        "outputId": "e367e484-2448-4f77-bfb3-3442167954ed"
      },
      "cell_type": "code",
      "source": [
        "my_taxes"
      ],
      "execution_count": 0,
      "outputs": [
        {
          "output_type": "execute_result",
          "data": {
            "text/plain": [
              "200000.0"
            ]
          },
          "metadata": {
            "tags": []
          },
          "execution_count": 66
        }
      ]
    },
    {
      "metadata": {
        "id": "8G5y1WxAETfJ",
        "colab_type": "code",
        "colab": {}
      },
      "cell_type": "code",
      "source": [
        ""
      ],
      "execution_count": 0,
      "outputs": []
    },
    {
      "metadata": {
        "id": "CD_sc2B4ETfM",
        "colab_type": "text"
      },
      "cell_type": "markdown",
      "source": [
        "# STRINGS"
      ]
    },
    {
      "metadata": {
        "id": "M_H7JAmuETfM",
        "colab_type": "code",
        "colab": {},
        "outputId": "077e7da7-1e54-44fc-cab9-856e400e1abe"
      },
      "cell_type": "code",
      "source": [
        "'Hello'"
      ],
      "execution_count": 0,
      "outputs": [
        {
          "output_type": "execute_result",
          "data": {
            "text/plain": [
              "'Hello'"
            ]
          },
          "metadata": {
            "tags": []
          },
          "execution_count": 67
        }
      ]
    },
    {
      "metadata": {
        "id": "mFu3DsR9ETfP",
        "colab_type": "code",
        "colab": {},
        "outputId": "1ec09b30-c33a-4ad6-abd1-bf2553ef4d9a"
      },
      "cell_type": "code",
      "source": [
        "'This is also a string'"
      ],
      "execution_count": 0,
      "outputs": [
        {
          "output_type": "execute_result",
          "data": {
            "text/plain": [
              "'This is also a string'"
            ]
          },
          "metadata": {
            "tags": []
          },
          "execution_count": 68
        }
      ]
    },
    {
      "metadata": {
        "id": "JXHzRXRIETfT",
        "colab_type": "code",
        "colab": {},
        "outputId": "dc842067-49c6-4503-83ad-09f6f0b80827"
      },
      "cell_type": "code",
      "source": [
        "'I'm a string    # ERROR"
      ],
      "execution_count": 0,
      "outputs": [
        {
          "output_type": "error",
          "ename": "SyntaxError",
          "evalue": "invalid syntax (<ipython-input-69-2d82d9e81731>, line 1)",
          "traceback": [
            "\u001b[0;36m  File \u001b[0;32m\"<ipython-input-69-2d82d9e81731>\"\u001b[0;36m, line \u001b[0;32m1\u001b[0m\n\u001b[0;31m    'I'm a string    # ERROR\u001b[0m\n\u001b[0m       ^\u001b[0m\n\u001b[0;31mSyntaxError\u001b[0m\u001b[0;31m:\u001b[0m invalid syntax\n"
          ]
        }
      ]
    },
    {
      "metadata": {
        "id": "53BsxEacETfX",
        "colab_type": "code",
        "colab": {},
        "outputId": "238c4d40-9f50-4698-83b5-ac7842fefe64"
      },
      "cell_type": "code",
      "source": [
        "\"I'm a string\"    #OK"
      ],
      "execution_count": 0,
      "outputs": [
        {
          "output_type": "execute_result",
          "data": {
            "text/plain": [
              "\"I'm a string\""
            ]
          },
          "metadata": {
            "tags": []
          },
          "execution_count": 70
        }
      ]
    },
    {
      "metadata": {
        "id": "iNC2XKKlETfa",
        "colab_type": "code",
        "colab": {},
        "outputId": "5fbcef3b-3e84-4c87-9910-5f88953c473c"
      },
      "cell_type": "code",
      "source": [
        "'Hello World 1'\n",
        "'Hello World 2'\n"
      ],
      "execution_count": 0,
      "outputs": [
        {
          "output_type": "execute_result",
          "data": {
            "text/plain": [
              "'Hello World 2'"
            ]
          },
          "metadata": {
            "tags": []
          },
          "execution_count": 71
        }
      ]
    },
    {
      "metadata": {
        "id": "s_erIYAuETff",
        "colab_type": "code",
        "colab": {},
        "outputId": "a2d799a2-16fb-4769-d6fa-836924bd0352"
      },
      "cell_type": "code",
      "source": [
        "# print statement \n",
        "\n",
        "print 'Hello World 1'\n",
        "print 'Hwllo World 2'"
      ],
      "execution_count": 0,
      "outputs": [
        {
          "output_type": "stream",
          "text": [
            "Hello World 1\n",
            "Hwllo World 2\n"
          ],
          "name": "stdout"
        }
      ]
    },
    {
      "metadata": {
        "id": "YhJ-Ya8uETfh",
        "colab_type": "code",
        "colab": {},
        "outputId": "014c1be3-f144-4772-db32-7da841bd72b7"
      },
      "cell_type": "code",
      "source": [
        "print 'Here is a new line \\n and here is a 2nd line'"
      ],
      "execution_count": 0,
      "outputs": [
        {
          "output_type": "stream",
          "text": [
            "Here is a new line \n",
            " and here is a 2nd line\n"
          ],
          "name": "stdout"
        }
      ]
    },
    {
      "metadata": {
        "id": "cSEE6ZOjETfq",
        "colab_type": "code",
        "colab": {},
        "outputId": "93ae9445-ec26-4d90-966e-7ed7b4c9fc00"
      },
      "cell_type": "code",
      "source": [
        "print 'before TAB \\t after TAB'"
      ],
      "execution_count": 0,
      "outputs": [
        {
          "output_type": "stream",
          "text": [
            "before TAB \t after TAB\n"
          ],
          "name": "stdout"
        }
      ]
    },
    {
      "metadata": {
        "id": "FkPJe_WDETfv",
        "colab_type": "code",
        "colab": {},
        "outputId": "9c6fb67c-5b25-4c84-f58c-a0093078f5b9"
      },
      "cell_type": "code",
      "source": [
        "print(\"hello World\")"
      ],
      "execution_count": 0,
      "outputs": [
        {
          "output_type": "stream",
          "text": [
            "hello World\n"
          ],
          "name": "stdout"
        }
      ]
    },
    {
      "metadata": {
        "id": "U7FQx_YJETf0",
        "colab_type": "code",
        "colab": {}
      },
      "cell_type": "code",
      "source": [
        "# To use print function from Python3 in Python2\n",
        "from __future__ import print_function"
      ],
      "execution_count": 0,
      "outputs": []
    },
    {
      "metadata": {
        "id": "ZLISYu1nETf5",
        "colab_type": "code",
        "colab": {},
        "outputId": "300bc054-3e87-442f-d16d-5c70c47e9e60"
      },
      "cell_type": "code",
      "source": [
        "print ('how are you')"
      ],
      "execution_count": 0,
      "outputs": [
        {
          "output_type": "stream",
          "text": [
            "how are you\n"
          ],
          "name": "stdout"
        }
      ]
    },
    {
      "metadata": {
        "id": "2xg3KCUcETgC",
        "colab_type": "code",
        "colab": {},
        "outputId": "f6ed4d6f-6226-4771-ab2e-6f5d1e95e698"
      },
      "cell_type": "code",
      "source": [
        "len('Hello World')"
      ],
      "execution_count": 0,
      "outputs": [
        {
          "output_type": "execute_result",
          "data": {
            "text/plain": [
              "11"
            ]
          },
          "metadata": {
            "tags": []
          },
          "execution_count": 78
        }
      ]
    },
    {
      "metadata": {
        "id": "0TlO2pXkETgI",
        "colab_type": "code",
        "colab": {}
      },
      "cell_type": "code",
      "source": [
        "s = 'Hello World'"
      ],
      "execution_count": 0,
      "outputs": []
    },
    {
      "metadata": {
        "id": "xPyHY56KETgK",
        "colab_type": "code",
        "colab": {},
        "outputId": "60b241e2-58bc-4dee-d4e7-376d5ca5c43b"
      },
      "cell_type": "code",
      "source": [
        "s"
      ],
      "execution_count": 0,
      "outputs": [
        {
          "output_type": "execute_result",
          "data": {
            "text/plain": [
              "'Hello World'"
            ]
          },
          "metadata": {
            "tags": []
          },
          "execution_count": 80
        }
      ]
    },
    {
      "metadata": {
        "id": "Xms-xwhUETgN",
        "colab_type": "code",
        "colab": {},
        "outputId": "190952d1-4d42-4c3a-b52a-3b5cde83170b"
      },
      "cell_type": "code",
      "source": [
        "# indexing\n",
        "s[0]"
      ],
      "execution_count": 0,
      "outputs": [
        {
          "output_type": "execute_result",
          "data": {
            "text/plain": [
              "'H'"
            ]
          },
          "metadata": {
            "tags": []
          },
          "execution_count": 81
        }
      ]
    },
    {
      "metadata": {
        "id": "KjJSGhqOETgR",
        "colab_type": "code",
        "colab": {},
        "outputId": "88d9e2f6-501d-4a08-9c51-4866f68ac8c2"
      },
      "cell_type": "code",
      "source": [
        "s[5]"
      ],
      "execution_count": 0,
      "outputs": [
        {
          "output_type": "execute_result",
          "data": {
            "text/plain": [
              "' '"
            ]
          },
          "metadata": {
            "tags": []
          },
          "execution_count": 82
        }
      ]
    },
    {
      "metadata": {
        "id": "haSnda5yETgV",
        "colab_type": "code",
        "colab": {},
        "outputId": "533464c6-c6b4-4bb2-e41c-f27384c0a858"
      },
      "cell_type": "code",
      "source": [
        "# slicing\n",
        "s[1:]"
      ],
      "execution_count": 0,
      "outputs": [
        {
          "output_type": "execute_result",
          "data": {
            "text/plain": [
              "'ello World'"
            ]
          },
          "metadata": {
            "tags": []
          },
          "execution_count": 83
        }
      ]
    },
    {
      "metadata": {
        "id": "_wBQTayvETgY",
        "colab_type": "code",
        "colab": {},
        "outputId": "08a3b45c-fe40-4883-e802-716dc5e5568e"
      },
      "cell_type": "code",
      "source": [
        "s[1:7]"
      ],
      "execution_count": 0,
      "outputs": [
        {
          "output_type": "execute_result",
          "data": {
            "text/plain": [
              "'ello W'"
            ]
          },
          "metadata": {
            "tags": []
          },
          "execution_count": 84
        }
      ]
    },
    {
      "metadata": {
        "id": "KiJaoEbSETgc",
        "colab_type": "code",
        "colab": {},
        "outputId": "916e03ac-e7ed-4745-9c2e-7e1b6d740a9b"
      },
      "cell_type": "code",
      "source": [
        "s[:8]"
      ],
      "execution_count": 0,
      "outputs": [
        {
          "output_type": "execute_result",
          "data": {
            "text/plain": [
              "'Hello Wo'"
            ]
          },
          "metadata": {
            "tags": []
          },
          "execution_count": 85
        }
      ]
    },
    {
      "metadata": {
        "id": "RMRUwfqGETge",
        "colab_type": "code",
        "colab": {},
        "outputId": "7d63d69b-62b9-493f-f3da-878fcf337dd1"
      },
      "cell_type": "code",
      "source": [
        "s[:]"
      ],
      "execution_count": 0,
      "outputs": [
        {
          "output_type": "execute_result",
          "data": {
            "text/plain": [
              "'Hello World'"
            ]
          },
          "metadata": {
            "tags": []
          },
          "execution_count": 86
        }
      ]
    },
    {
      "metadata": {
        "id": "HJbsaCgpETgh",
        "colab_type": "code",
        "colab": {},
        "outputId": "33ac0756-9df9-4ad1-ff3f-e7259eb74962"
      },
      "cell_type": "code",
      "source": [
        "s[1:1]"
      ],
      "execution_count": 0,
      "outputs": [
        {
          "output_type": "execute_result",
          "data": {
            "text/plain": [
              "''"
            ]
          },
          "metadata": {
            "tags": []
          },
          "execution_count": 87
        }
      ]
    },
    {
      "metadata": {
        "id": "nxei447LETgo",
        "colab_type": "code",
        "colab": {},
        "outputId": "3a2e98ae-388d-469e-d065-1375391e518d"
      },
      "cell_type": "code",
      "source": [
        "s[-1]"
      ],
      "execution_count": 0,
      "outputs": [
        {
          "output_type": "execute_result",
          "data": {
            "text/plain": [
              "'d'"
            ]
          },
          "metadata": {
            "tags": []
          },
          "execution_count": 88
        }
      ]
    },
    {
      "metadata": {
        "id": "jN0X1p40ETgs",
        "colab_type": "code",
        "colab": {},
        "outputId": "dab9fefd-3bac-4d86-c243-855a8c27d6dd"
      },
      "cell_type": "code",
      "source": [
        "s[-2]"
      ],
      "execution_count": 0,
      "outputs": [
        {
          "output_type": "execute_result",
          "data": {
            "text/plain": [
              "'l'"
            ]
          },
          "metadata": {
            "tags": []
          },
          "execution_count": 89
        }
      ]
    },
    {
      "metadata": {
        "id": "CgK-XrT2ETgv",
        "colab_type": "code",
        "colab": {},
        "outputId": "6bbb74ce-d6e8-4877-9748-d85dd8ca89f0"
      },
      "cell_type": "code",
      "source": [
        "s[:-1]"
      ],
      "execution_count": 0,
      "outputs": [
        {
          "output_type": "execute_result",
          "data": {
            "text/plain": [
              "'Hello Worl'"
            ]
          },
          "metadata": {
            "tags": []
          },
          "execution_count": 90
        }
      ]
    },
    {
      "metadata": {
        "id": "T3USCW7cETgy",
        "colab_type": "code",
        "colab": {},
        "outputId": "644c483c-d45e-407c-eede-67f1af2efc7f"
      },
      "cell_type": "code",
      "source": [
        "s[:-2]"
      ],
      "execution_count": 0,
      "outputs": [
        {
          "output_type": "execute_result",
          "data": {
            "text/plain": [
              "'Hello Wor'"
            ]
          },
          "metadata": {
            "tags": []
          },
          "execution_count": 91
        }
      ]
    },
    {
      "metadata": {
        "id": "pOfpqDPTETg0",
        "colab_type": "code",
        "colab": {},
        "outputId": "af88ef71-50b3-4738-dc1a-a0d2fe45042c"
      },
      "cell_type": "code",
      "source": [
        "s[::1]"
      ],
      "execution_count": 0,
      "outputs": [
        {
          "output_type": "execute_result",
          "data": {
            "text/plain": [
              "'Hello World'"
            ]
          },
          "metadata": {
            "tags": []
          },
          "execution_count": 92
        }
      ]
    },
    {
      "metadata": {
        "id": "QGyI5w2PETg4",
        "colab_type": "code",
        "colab": {},
        "outputId": "dfda8cb7-9dd0-4378-8a8e-c0f0d4857c46"
      },
      "cell_type": "code",
      "source": [
        "s[1:5:1]"
      ],
      "execution_count": 0,
      "outputs": [
        {
          "output_type": "execute_result",
          "data": {
            "text/plain": [
              "'ello'"
            ]
          },
          "metadata": {
            "tags": []
          },
          "execution_count": 93
        }
      ]
    },
    {
      "metadata": {
        "id": "YBsW5MqIETg7",
        "colab_type": "code",
        "colab": {},
        "outputId": "18c8af48-2e3f-4d2c-e13c-306e65e98332"
      },
      "cell_type": "code",
      "source": [
        "s[1:5:2]"
      ],
      "execution_count": 0,
      "outputs": [
        {
          "output_type": "execute_result",
          "data": {
            "text/plain": [
              "'el'"
            ]
          },
          "metadata": {
            "tags": []
          },
          "execution_count": 94
        }
      ]
    },
    {
      "metadata": {
        "id": "AmHC8fEyETg_",
        "colab_type": "code",
        "colab": {},
        "outputId": "a92696c8-2a66-4444-e2d8-33e59682d03d"
      },
      "cell_type": "code",
      "source": [
        "s[::2]"
      ],
      "execution_count": 0,
      "outputs": [
        {
          "output_type": "execute_result",
          "data": {
            "text/plain": [
              "'HloWrd'"
            ]
          },
          "metadata": {
            "tags": []
          },
          "execution_count": 95
        }
      ]
    },
    {
      "metadata": {
        "id": "0wduQDL3EThC",
        "colab_type": "code",
        "colab": {},
        "outputId": "abe2c658-ffcc-49fd-a36a-a89d31947d54"
      },
      "cell_type": "code",
      "source": [
        "s[::-1]          # reversing the string backwards"
      ],
      "execution_count": 0,
      "outputs": [
        {
          "output_type": "execute_result",
          "data": {
            "text/plain": [
              "'dlroW olleH'"
            ]
          },
          "metadata": {
            "tags": []
          },
          "execution_count": 96
        }
      ]
    },
    {
      "metadata": {
        "id": "RHopneb-EThH",
        "colab_type": "code",
        "colab": {},
        "outputId": "f46392c3-02b4-4f2e-9d9f-4c79b767ce0c"
      },
      "cell_type": "code",
      "source": [
        "# immutability\n",
        "\n",
        "s[2] = 'P'        # cannot assign to a particlar element in a string sequence"
      ],
      "execution_count": 0,
      "outputs": [
        {
          "output_type": "error",
          "ename": "TypeError",
          "evalue": "'str' object does not support item assignment",
          "traceback": [
            "\u001b[0;31m---------------------------------------------------------------------------\u001b[0m",
            "\u001b[0;31mTypeError\u001b[0m                                 Traceback (most recent call last)",
            "\u001b[0;32m<ipython-input-97-eae392253637>\u001b[0m in \u001b[0;36m<module>\u001b[0;34m()\u001b[0m\n\u001b[1;32m      1\u001b[0m \u001b[0;31m# immutability\u001b[0m\u001b[0;34m\u001b[0m\u001b[0;34m\u001b[0m\u001b[0m\n\u001b[1;32m      2\u001b[0m \u001b[0;34m\u001b[0m\u001b[0m\n\u001b[0;32m----> 3\u001b[0;31m \u001b[0ms\u001b[0m\u001b[0;34m[\u001b[0m\u001b[0;36m2\u001b[0m\u001b[0;34m]\u001b[0m \u001b[0;34m=\u001b[0m \u001b[0;34m'P'\u001b[0m        \u001b[0;31m# cannot assign to a particlar element in a string sequence\u001b[0m\u001b[0;34m\u001b[0m\u001b[0m\n\u001b[0m",
            "\u001b[0;31mTypeError\u001b[0m: 'str' object does not support item assignment"
          ]
        }
      ]
    },
    {
      "metadata": {
        "id": "lvCRiSUiEThJ",
        "colab_type": "code",
        "colab": {},
        "outputId": "e860167e-1a6f-40fc-b17f-a634b0182c92"
      },
      "cell_type": "code",
      "source": [
        "# concatenation\n",
        "\n",
        "s + \"Concatenate me!\""
      ],
      "execution_count": 0,
      "outputs": [
        {
          "output_type": "execute_result",
          "data": {
            "text/plain": [
              "'Hello WorldConcatenate me!'"
            ]
          },
          "metadata": {
            "tags": []
          },
          "execution_count": 98
        }
      ]
    },
    {
      "metadata": {
        "id": "wzOBrZUiEThM",
        "colab_type": "code",
        "colab": {}
      },
      "cell_type": "code",
      "source": [
        "# multiplication\n",
        "letter = 'p'"
      ],
      "execution_count": 0,
      "outputs": []
    },
    {
      "metadata": {
        "id": "sJSY5zJcEThP",
        "colab_type": "code",
        "colab": {},
        "outputId": "7ef7ad17-8482-486f-b9af-6c16081f50e4"
      },
      "cell_type": "code",
      "source": [
        "letter"
      ],
      "execution_count": 0,
      "outputs": [
        {
          "output_type": "execute_result",
          "data": {
            "text/plain": [
              "'p'"
            ]
          },
          "metadata": {
            "tags": []
          },
          "execution_count": 100
        }
      ]
    },
    {
      "metadata": {
        "id": "dSQdlWaXEThR",
        "colab_type": "code",
        "colab": {},
        "outputId": "5ec7d5af-d09a-4189-c21c-fdc5a35d7a24"
      },
      "cell_type": "code",
      "source": [
        "letter * 10"
      ],
      "execution_count": 0,
      "outputs": [
        {
          "output_type": "execute_result",
          "data": {
            "text/plain": [
              "'pppppppppp'"
            ]
          },
          "metadata": {
            "tags": []
          },
          "execution_count": 101
        }
      ]
    },
    {
      "metadata": {
        "id": "HiG_9VSzEThV",
        "colab_type": "code",
        "colab": {},
        "outputId": "ebf01279-2982-4ef8-a562-935e63922391"
      },
      "cell_type": "code",
      "source": [
        "print letter * 18"
      ],
      "execution_count": 0,
      "outputs": [
        {
          "output_type": "error",
          "ename": "SyntaxError",
          "evalue": "invalid syntax (<ipython-input-116-5d56031a985b>, line 1)",
          "traceback": [
            "\u001b[0;36m  File \u001b[0;32m\"<ipython-input-116-5d56031a985b>\"\u001b[0;36m, line \u001b[0;32m1\u001b[0m\n\u001b[0;31m    print letter * 18\u001b[0m\n\u001b[0m               ^\u001b[0m\n\u001b[0;31mSyntaxError\u001b[0m\u001b[0;31m:\u001b[0m invalid syntax\n"
          ]
        }
      ]
    },
    {
      "metadata": {
        "id": "DNiRt_JkEThX",
        "colab_type": "code",
        "colab": {},
        "outputId": "01c15bf8-4e5a-4227-f59b-82259ba6785b"
      },
      "cell_type": "code",
      "source": [
        "print(letter * 5)"
      ],
      "execution_count": 0,
      "outputs": [
        {
          "output_type": "stream",
          "text": [
            "ppppp\n"
          ],
          "name": "stdout"
        }
      ]
    },
    {
      "metadata": {
        "id": "xQ_T_2BiEThc",
        "colab_type": "code",
        "colab": {}
      },
      "cell_type": "code",
      "source": [
        "s = 'rustom'"
      ],
      "execution_count": 0,
      "outputs": []
    },
    {
      "metadata": {
        "id": "OT9HFKR8EThi",
        "colab_type": "code",
        "colab": {},
        "outputId": "dd1abdd1-31d9-4a72-bea1-e60330627bf6"
      },
      "cell_type": "code",
      "source": [
        "# uppercase\n",
        "\n",
        "s.upper()"
      ],
      "execution_count": 0,
      "outputs": [
        {
          "output_type": "execute_result",
          "data": {
            "text/plain": [
              "'RUSTOM'"
            ]
          },
          "metadata": {
            "tags": []
          },
          "execution_count": 114
        }
      ]
    },
    {
      "metadata": {
        "id": "9IYFdrBvEThl",
        "colab_type": "code",
        "colab": {},
        "outputId": "747e9123-a563-4a8a-91f1-13413d2ae406"
      },
      "cell_type": "code",
      "source": [
        "# lowercase\n",
        "\n",
        "s.lower()"
      ],
      "execution_count": 0,
      "outputs": [
        {
          "output_type": "execute_result",
          "data": {
            "text/plain": [
              "'rustom'"
            ]
          },
          "metadata": {
            "tags": []
          },
          "execution_count": 115
        }
      ]
    },
    {
      "metadata": {
        "id": "E1t7T8ehETho",
        "colab_type": "code",
        "colab": {},
        "outputId": "a28d0c53-b80f-4c57-d90e-c61bbe19925b"
      },
      "cell_type": "code",
      "source": [
        "# splitting a string\n",
        "\n",
        "s.split('o')         # splitting around 'o'"
      ],
      "execution_count": 0,
      "outputs": [
        {
          "output_type": "execute_result",
          "data": {
            "text/plain": [
              "['rust', 'm']"
            ]
          },
          "metadata": {
            "tags": []
          },
          "execution_count": 117
        }
      ]
    },
    {
      "metadata": {
        "id": "9OeiSrCeETht",
        "colab_type": "code",
        "colab": {}
      },
      "cell_type": "code",
      "source": [
        ""
      ],
      "execution_count": 0,
      "outputs": []
    },
    {
      "metadata": {
        "id": "pD5tLJuSEThu",
        "colab_type": "text"
      },
      "cell_type": "markdown",
      "source": [
        "# PRINT Formatting:"
      ]
    },
    {
      "metadata": {
        "id": "RoQqI_oNEThv",
        "colab_type": "code",
        "colab": {},
        "outputId": "61a32221-76cd-4a10-ba14-ff2d43946ff2"
      },
      "cell_type": "code",
      "source": [
        "print 'This is a string'"
      ],
      "execution_count": 0,
      "outputs": [
        {
          "output_type": "stream",
          "text": [
            "This is a string\n"
          ],
          "name": "stdout"
        }
      ]
    },
    {
      "metadata": {
        "id": "vthncBakEThz",
        "colab_type": "code",
        "colab": {},
        "outputId": "38ad50b8-6f70-4c35-ce9b-a15fc0eb9e96"
      },
      "cell_type": "code",
      "source": [
        "print('This is a string')"
      ],
      "execution_count": 0,
      "outputs": [
        {
          "output_type": "stream",
          "text": [
            "This is a string\n"
          ],
          "name": "stdout"
        }
      ]
    },
    {
      "metadata": {
        "id": "Uu9PSj9KETh1",
        "colab_type": "code",
        "colab": {},
        "outputId": "ad48a8e1-fc67-40f2-f796-d1628b770b75"
      },
      "cell_type": "code",
      "source": [
        "m_str = 'String'\n",
        "\n",
        "print 'Place my variable here: %s' %(m_str)\n"
      ],
      "execution_count": 0,
      "outputs": [
        {
          "output_type": "stream",
          "text": [
            "Place my variable here: String\n"
          ],
          "name": "stdout"
        }
      ]
    },
    {
      "metadata": {
        "id": "lBZrWSlQETh4",
        "colab_type": "code",
        "colab": {},
        "outputId": "dab3dc54-d36f-479e-aa66-d1481eccd99b"
      },
      "cell_type": "code",
      "source": [
        "x = 13.35\n",
        "print 'Place my variables here: %s' %(x)"
      ],
      "execution_count": 0,
      "outputs": [
        {
          "output_type": "stream",
          "text": [
            "Place my variables here: 13.35\n"
          ],
          "name": "stdout"
        }
      ]
    },
    {
      "metadata": {
        "id": "0lribT0rETh6",
        "colab_type": "code",
        "colab": {},
        "outputId": "7972afc4-c273-4243-a72e-893c109ff5f5"
      },
      "cell_type": "code",
      "source": [
        "print 'Floating point number: %1.2f' %(82.175)"
      ],
      "execution_count": 0,
      "outputs": [
        {
          "output_type": "stream",
          "text": [
            "Floating point number: 82.17\n"
          ],
          "name": "stdout"
        }
      ]
    },
    {
      "metadata": {
        "id": "mmQDJELuETh7",
        "colab_type": "code",
        "colab": {},
        "outputId": "3296b442-261f-4bea-9d36-2cf3ef8a8c17"
      },
      "cell_type": "code",
      "source": [
        "print 'Floating point number: %1.12f' %(82.175)"
      ],
      "execution_count": 0,
      "outputs": [
        {
          "output_type": "stream",
          "text": [
            "Floating point number: 82.175000000000\n"
          ],
          "name": "stdout"
        }
      ]
    },
    {
      "metadata": {
        "id": "NczJ-Ts3ETh8",
        "colab_type": "code",
        "colab": {},
        "outputId": "a84f3c65-00a7-474f-ed84-a8b3a1b50fc2"
      },
      "cell_type": "code",
      "source": [
        "print 'Floating point number: %18.2f' %(82.175)"
      ],
      "execution_count": 0,
      "outputs": [
        {
          "output_type": "stream",
          "text": [
            "Floating point number:              82.17\n"
          ],
          "name": "stdout"
        }
      ]
    },
    {
      "metadata": {
        "id": "ciBcCMofETh-",
        "colab_type": "code",
        "colab": {},
        "outputId": "4037debe-53fb-449c-ecb8-4807f3af9296"
      },
      "cell_type": "code",
      "source": [
        "#conversion methods:\n",
        "\n",
        "print 'Conversion to string %r' %(15.96)"
      ],
      "execution_count": 0,
      "outputs": [
        {
          "output_type": "stream",
          "text": [
            "Conversion to string 15.96\n"
          ],
          "name": "stdout"
        }
      ]
    },
    {
      "metadata": {
        "id": "OmJgE2EGETh_",
        "colab_type": "code",
        "colab": {},
        "outputId": "fae5f686-a097-4805-a7b4-df0fc6d86629"
      },
      "cell_type": "code",
      "source": [
        "print 'first: %s, \\nsecond: %s, \\nthird: %s' %('hi', 'rus', 'potter')"
      ],
      "execution_count": 0,
      "outputs": [
        {
          "output_type": "stream",
          "text": [
            "first: hi, \n",
            "second: rus, \n",
            "third: potter\n"
          ],
          "name": "stdout"
        }
      ]
    },
    {
      "metadata": {
        "id": "jn9ii79TETiB",
        "colab_type": "code",
        "colab": {},
        "outputId": "7c02b4e7-1f8a-4c12-bcf3-a9c6eadc0fb8"
      },
      "cell_type": "code",
      "source": [
        "print 'First: {x} \\nSecond: {x}'.format(x = \"Hello Potter\")"
      ],
      "execution_count": 0,
      "outputs": [
        {
          "output_type": "stream",
          "text": [
            "First: Hello Potter \n",
            "Second: Hello Potter\n"
          ],
          "name": "stdout"
        }
      ]
    },
    {
      "metadata": {
        "id": "O0pUW-x9ETiC",
        "colab_type": "code",
        "colab": {},
        "outputId": "9f39722b-9db2-4a8c-dfea-4b691bd436be"
      },
      "cell_type": "code",
      "source": [
        "print 'First: {x}, \\nSecond: {y}, \\nThird: {z}'.format(x = \"Hariom\", y = \"Guruji\", z = 'OmGuru')"
      ],
      "execution_count": 0,
      "outputs": [
        {
          "output_type": "stream",
          "text": [
            "First: Hariom, \n",
            "Second: Guruji, \n",
            "Third: OmGuru\n"
          ],
          "name": "stdout"
        }
      ]
    },
    {
      "metadata": {
        "id": "DX2AQtlyETiE",
        "colab_type": "code",
        "colab": {}
      },
      "cell_type": "code",
      "source": [
        "from __future__ import print_function"
      ],
      "execution_count": 0,
      "outputs": []
    },
    {
      "metadata": {
        "id": "byiicc17ETiF",
        "colab_type": "code",
        "colab": {},
        "outputId": "62b36e64-821a-4e0c-c552-59e40e10135f"
      },
      "cell_type": "code",
      "source": [
        "print('hello')"
      ],
      "execution_count": 0,
      "outputs": [
        {
          "output_type": "stream",
          "text": [
            "hello\n"
          ],
          "name": "stdout"
        }
      ]
    },
    {
      "metadata": {
        "id": "XXqn8xLdETiH",
        "colab_type": "code",
        "colab": {},
        "outputId": "c91aa9b4-d649-4fb4-ebf7-1b5c58241706"
      },
      "cell_type": "code",
      "source": [
        "print('First: {x}'.format(x = 'INSERT!!!'))"
      ],
      "execution_count": 0,
      "outputs": [
        {
          "output_type": "stream",
          "text": [
            "First: INSERT!!!\n"
          ],
          "name": "stdout"
        }
      ]
    },
    {
      "metadata": {
        "id": "GJfn6E94ETiI",
        "colab_type": "code",
        "colab": {}
      },
      "cell_type": "code",
      "source": [
        ""
      ],
      "execution_count": 0,
      "outputs": []
    }
  ]
}